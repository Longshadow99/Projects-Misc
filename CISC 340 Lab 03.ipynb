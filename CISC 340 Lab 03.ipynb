{
 "cells": [
  {
   "attachments": {
    "HUBanner.png": {
     "image/png": "[encoded data removed]"
    }
   },
   "cell_type": "markdown",
   "metadata": {},
   "source": [
    "![HUBanner.png](attachment:HUBanner.png)\n",
    "<br>\n",
    "# CISC 340\n",
    "# Introduction to Artificial Intelligence\n",
    "## Lab Booklet #03\n",
    "## Lab Title: Heurisitic Searching\n",
    "***\n",
    "### **Instructors**\n",
    "### Brian Grey M.S.\n",
    "### Chad Van Chu M.S.\n",
    "***"
   ]
  },
  {
   "cell_type": "markdown",
   "metadata": {},
   "source": [
    "# Objectives\n",
    "#### Searching problems are central to gaining an understanding of Artificial Intelligence. We will be continuing our work from the last class by implementing two classic algorithms central to the concept of modern AI: Dijkstra’s algorithm and the heuristic-based extension, A*. We will construct an algorithm so that, if fed information in the proper format, our algorithm can find the shortest path between two specified points and, potentially, display the state of the search along the way.\n",
    "\n",
    "#### After completing this lab, you will be able to:\n",
    "\n",
    "- __Create and implement a novel design for representing a graph__\n",
    "- __Understand the differences in theory and application between Dijksta’s search algorithm and A*__\n",
    "- __Understand the principle of an admissible optimistic heuristic__\n",
    "- __Design and parameterize robust and necessary output__"
   ]
  },
  {
   "cell_type": "markdown",
   "metadata": {},
   "source": [
    "# Resources\n",
    "#### While the lab will explain everything that you need to know, you may want to consult the following sources for additional knowledge:\n",
    "\n",
    "- [https://en.wikipedia.org/wiki/Dijkstra%27s_algorithm](https://en.wikipedia.org/wiki/Dijkstra%27s_algorithm)\n",
    "- [https://en.wikipedia.org/wiki/A*_search_algorithm](https://en.wikipedia.org/wiki/A*_search_algorithm)"
   ]
  },
  {
   "cell_type": "markdown",
   "metadata": {},
   "source": [
    "# Deliverables\n",
    "#### For this lab, you will need to submit:\n",
    "\n",
    "- Jupyter notebook files (.ipynb), named and coded as instructed. \n",
    "  - CISC 340 Lab 03 FA19.ipynb"
   ]
  },
  {
   "cell_type": "markdown",
   "metadata": {},
   "source": [
    "# Instructions & Questions\n",
    "Dijkstra and A* both work on directed and undirected connected graphs where edge weights are non-negative. Given this we are going to need to construct a graph of this type and store it within our code. We can then pass this graph to the function which runs the search. The call to the function is to take the form:\n",
    "\n",
    "`searchXxxxx(Graph g, Node start, Node end, bit robust_output)`\n",
    "\n",
    "Where `Xxxxx` is the name of the algorithm, `Graph g` is the graph being searched, `Node start` is the starting point, `Node end` is the ending point, and `bit robust_output` represents whether the program will display more output while it is running.\n",
    "When storing your graph, you will need to store each node within the graph and the connections between the nodes. For this lab, we are going to assume that edge weights are determined by Euclidean distance. Therefore, you will also need to store the coordinate of each node.\n",
    "\n",
    "For your implementation, you will run a search using Dijkstra and A* on the graph given to determine the shortest path for `Node start` to `Node end`. The program will output the shortest path between the two nodes, the length of the path, and the number of nodes visited for each algorithm."
   ]
  },
  {
   "cell_type": "markdown",
   "metadata": {},
   "source": [
    "# <u>Part 1: Design</u>"
   ]
  },
  {
   "cell_type": "markdown",
   "metadata": {},
   "source": [
    "First, you need to determine certain design aspects regarding your solution.\n",
    "\n",
    "#### 1. Explain, in detail, how you will store your graph and nodes within your code. Be sure to explain how the data will be structured internally."
   ]
  },
  {
   "cell_type": "markdown",
   "metadata": {},
   "source": [
    "I'm going to store my nodes as a list of list in the format \n",
    "[[id,[children],length to node,parent,heuristic,position],[id,[children],length to node,parent,heuristic,position],...]\n",
    "For dijsktras all that is neccessary are the first four memebers these allow for a unique node identifier, a list of the children and how far they are away,the length to get to this node, and the parent so we can trace our path back to the start. When establishing the graph the parent and length to the node both start as null values. A* requires a few more things to be tracked namebly the heuristic value and the position of the node. The position of the node is used to get its euclidan distance from the goal allowing for the estblisment of a heuristic value. The heuristic value also starts as a null value."
   ]
  },
  {
   "cell_type": "markdown",
   "metadata": {},
   "source": [
    "\n",
    "#### 2. Explain, in detail, what additional information you will display when the <i>robust_output</i> flag is set to true. Information may be displayed before the search algorithm starts, during each iteration of searching, or after the search algorithm completes. Be sure to include when your additional data will be displayed."
   ]
  },
  {
   "cell_type": "markdown",
   "metadata": {},
   "source": [
    "When robust output is set to true it will output upon each node being processed the number of nodes processed, the id of thenode processed and the length of the path to that node. This data is useful for observing how the algorithm traverses through the nodes and gives the user a throuhg picture of how the end path was discovered."
   ]
  },
  {
   "cell_type": "markdown",
   "metadata": {},
   "source": [
    "# <u>Part 2: Concept</u>"
   ]
  },
  {
   "cell_type": "markdown",
   "metadata": {},
   "source": [
    "\n",
    "#### 3. Translate the following maze into your graph storage methodology. You may document this using conceptual representations or code-based representations. Be sure to include “dead end” nodes in your graph.\n",
    "\n",
    "![Maze](maze.png)"
   ]
  },
  {
   "cell_type": "markdown",
   "metadata": {},
   "source": [
    "The wall of text below works for both my Dijsktra and my A* implementation the last two values are ignored for Dijsktra and could be removed when running Dijsktra. They are however neccessary for my A* implementation. \n",
    "\n",
    "To develop this list of lists i began by drawing a grid over the maze to give me a way to measure distance and assign identifiers to identified nodes. Once this grid was established I labelled the start space A1 and the one below it A2 and so on until the entire grid had an identifier. I considered treating some nodes as edges if they branched were a straight stretch such as from the start down to the first turn but I decided to represent the mididle portion as node as well. This means more needs to be stored but iwas interested to see how the algorithm would work.\n",
    "\n",
    "\n",
    "[['A1', [['B1', 1], ['A2', 1]], None, None, None, [0, 0]], ['A2', [['A1', 1], ['A3', 1]], None, None, None, [0, 1]], ['A3', [['A2', 1], ['B3', 1]], None, None, None, [0, 2]], ['A4', [['B4', 1], ['A5', 1]], None, None, None, [0, 3]], ['A5', [['A4', 1], ['B5', 1]], None, None, None, [0, 4]], ['B1', [['A1', 1], ['C1', 1]], None, None, None, [1, 0]], ['B2', [['C2', 1]], None, None, None, [1, 1]], ['B3', [['A3', 1], ['B4', 1]], None, None, None, [1, 2]], ['B4', [['A4', 1], ['C4', 1], ['B3', 1]], None, None, None, [1, 3]], ['B5', [['A5', 1], ['C5', 1]], None, None, None, [1, 4]], ['C1', [['B1', 1], ['C2', 1]], None, None, None, [2, 0]], ['C2', [['B2', 1], ['C1', 1]], None, None, None, [2, 1]], ['C3', [['D3', 1], ['C4', 1]], None, None, None, [2, 2]], ['C4', [['B4', 1], ['C3', 1]], None, None, None, [2, 3]], ['C5', [['B5', 1], ['D5', 1]], None, None, None, [2, 4]], ['D1', [['E1', 1], ['D2', 1]], None, None, None, [3, 0]], ['D2', [['D1', 1], ['E5', 1]], None, None, None, [3, 1]], ['D3', [['C3', 1]], None, None, None, [3, 2]], ['D4', [['E4', 1], ['D5', 1]], None, None, None, [3, 3]], ['D5', [['D4', 1], ['C5', 1]], None, None, None, [3, 4]], ['E1', [['D1', 1], ['F1', 1]], None, None, None, [4, 0]], ['E2', [['D2', 1], ['E3', 1]], None, None, None, [4, 1]], ['E3', [['E2', 1], ['E4', 1], ['F3', 1]], None, None, None, [4, 2]], ['E4', [['E3', 1], ['E5', 1], ['D4', 1]], None, None, None, [4, 3]], ['E5', [['E4', 1], ['F5', 1]], None, None, None, [4, 4]], ['F1', [['E1', 1], ['F2', 1]], None, None, None, [5, 0]], ['F2', [['F1', 1], ['G2', 1]], None, None, None, [5, 1]], ['F3', [['E3', 1], ['F4', 1]], None, None, None, [5, 2]], ['F4', [['F3', 1], ['G4', 1]], None, None, None, [5, 3]], ['F5', [['E5', 1]], None, None, None, [5, 4]], ['G1', [['G2', 1], ['H1', 1]], None, None, None, [6, 0]], ['G2', [['G1', 1], ['F2', 1], ['G3', 1]], None, None, None, [6, 1]], ['G3', [['G2', 1], ['H3', 1]], None, None, None, [6, 2]], ['G4', [['F4', 1]], None, None, None, [6, 3]], ['G5', [['H5', 1]], None, None, None, [6, 4]], ['H1', [['G1', 1], ['I1', 1]], None, None, None, [7, 0]], ['H2', [['H3', 1]], None, None, None, [7, 1]], ['H3', [['H2', 1], ['G3', 1]], None, None, None, [7, 2]], ['H4', [['I4', 1], ['H5', 1]], None, None, None, [7, 3]], ['H5', [['H4', 1], ['G5', 1], ['I5', 1]], None, None, None, [7, 4]],['I1', [['H1', 1], ['J1', 1]], None, None, None, [8, 0]], ['I2', [['J2', 1], ['I3', 1]], None, None, None, [8, 1]], ['I3', [['I2', 1], ['I4', 1]], None, None, None, [8, 2]], ['I4', [['I3', 1], ['H4', 1], ['J4', 1]], None, None, None, [8, 3]], ['I5', [['H5', 1], ['J5', 1]], None, None, None, [8, 4]], ['J1', [['I1', 1], ['J2', 1]], None, None, None, [9, 0]], ['J2', [['J1', 1], ['I2', 1]], None, None, None, [9, 1]], ['J3', [['J4', 1]], None, None, None, [9, 2]], ['J4', [['J3', 1], ['I4', 1]], None, None, None, [9, 3]], ['J5', [['I5', 1]], None, None, None, [9, 4]]]"
   ]
  },
  {
   "cell_type": "markdown",
   "metadata": {},
   "source": [
    "# <u>Part 3: Implementation</u>"
   ]
  },
  {
   "cell_type": "markdown",
   "metadata": {},
   "source": [
    "\n",
    "#### 4.\tImplement your solution for the `searchDijsktra` function. You may write any helper functions that you wish. Be sure to test this code with the graph you created in Question 4, above, as well as with any other graph examples that you wish to use."
   ]
  },
  {
   "cell_type": "code",
   "execution_count": 26,
   "metadata": {
    "scrolled": true
   },
   "outputs": [
    {
     "name": "stdout",
     "output_type": "stream",
     "text": [
      "Nodes Processed: 1 Node ID: B1 Path Length: 1\n",
      "Nodes Processed: 2 Node ID: A2 Path Length: 1\n",
      "Nodes Processed: 3 Node ID: A1 Path Length: 2\n",
      "Nodes Processed: 4 Node ID: C1 Path Length: 2\n",
      "Nodes Processed: 5 Node ID: A3 Path Length: 2\n",
      "Nodes Processed: 6 Node ID: C2 Path Length: 3\n",
      "Nodes Processed: 7 Node ID: B3 Path Length: 3\n",
      "Nodes Processed: 8 Node ID: B2 Path Length: 4\n",
      "Nodes Processed: 10 Node ID: A4 Path Length: 5\n",
      "Nodes Processed: 11 Node ID: C4 Path Length: 5\n",
      "Nodes Processed: 12 Node ID: A5 Path Length: 6\n",
      "Nodes Processed: 13 Node ID: C3 Path Length: 6\n",
      "Nodes Processed: 14 Node ID: B5 Path Length: 7\n",
      "Nodes Processed: 15 Node ID: D3 Path Length: 7\n",
      "Nodes Processed: 17 Node ID: D5 Path Length: 9\n",
      "Nodes Processed: 18 Node ID: D4 Path Length: 10\n",
      "Nodes Processed: 19 Node ID: E4 Path Length: 11\n",
      "Nodes Processed: 20 Node ID: E3 Path Length: 12\n",
      "Nodes Processed: 21 Node ID: E5 Path Length: 12\n",
      "Nodes Processed: 22 Node ID: E2 Path Length: 13\n",
      "Nodes Processed: 23 Node ID: F3 Path Length: 13\n",
      "Nodes Processed: 24 Node ID: F5 Path Length: 13\n",
      "Nodes Processed: 26 Node ID: F4 Path Length: 14\n",
      "Nodes Processed: 27 Node ID: D1 Path Length: 15\n",
      "Nodes Processed: 28 Node ID: G4 Path Length: 15\n",
      "Nodes Processed: 30 Node ID: F1 Path Length: 17\n",
      "Nodes Processed: 31 Node ID: F2 Path Length: 18\n",
      "Nodes Processed: 32 Node ID: G2 Path Length: 19\n",
      "Nodes Processed: 33 Node ID: G1 Path Length: 20\n",
      "Nodes Processed: 34 Node ID: G3 Path Length: 20\n",
      "Nodes Processed: 35 Node ID: H1 Path Length: 21\n",
      "Nodes Processed: 36 Node ID: H3 Path Length: 21\n",
      "Nodes Processed: 37 Node ID: I1 Path Length: 22\n",
      "Nodes Processed: 38 Node ID: H2 Path Length: 22\n",
      "Nodes Processed: 40 Node ID: J2 Path Length: 24\n",
      "Nodes Processed: 41 Node ID: I2 Path Length: 25\n",
      "Nodes Processed: 42 Node ID: I3 Path Length: 26\n",
      "Nodes Processed: 43 Node ID: I4 Path Length: 27\n",
      "Nodes Processed: 44 Node ID: H4 Path Length: 28\n",
      "Nodes Processed: 45 Node ID: J4 Path Length: 28\n",
      "Nodes Processed: 46 Node ID: H5 Path Length: 29\n",
      "Nodes Processed: 47 Node ID: J3 Path Length: 29\n",
      "Nodes Processed: 50 Node ID: J5 Path Length: 31\n",
      "[['A1', 'A2', 'A3', 'B3', 'B4', 'A4', 'A5', 'B5', 'C5', 'D5', 'D4', 'E4', 'E3', 'E2', 'D2', 'D1', 'E1', 'F1', 'F2', 'G2', 'G1', 'H1', 'I1', 'J1', 'J2', 'I2', 'I3', 'I4', 'H4', 'H5', 'I5', 'J5'], 31, 50]\n"
     ]
    }
   ],
   "source": [
    "def searchDijsktra(graph,start,end,robust):\n",
    "    #unvisited is used to store potential next nodes \n",
    "    unvisited = []\n",
    "    #current holds the current node to be observed\n",
    "    current = None\n",
    "    #count is used to track nodes proccesed\n",
    "    count = 0\n",
    "    #gets the starting position from the graph and adds its children to unvisited\n",
    "    for x in graph:\n",
    "        if x[0] == start:\n",
    "            x[2] = 0\n",
    "            current = x\n",
    "            for child in x[1]:\n",
    "                unvisited.append(child)\n",
    "    #the main loop of the program will terminate when the goal is found\n",
    "    while current[0] != end:\n",
    "\n",
    "        count += 1\n",
    "        #if statement is for handling of dead ends it checks to see if it has hit one if so it goes to the next\n",
    "        # smallest node in unvisted and starts the loop over\n",
    "        if len(current[1]) == 1:\n",
    "            check = None\n",
    "            for x in unvisited:\n",
    "                for node in graph:\n",
    "                    if x == node[0]:\n",
    "                        if check == None:\n",
    "                            check = node\n",
    "                        else:\n",
    "                            if check[2] >  node [2]:\n",
    "                                check = node\n",
    "            current = check\n",
    "            unvisited.remove(check[0])\n",
    "        else:\n",
    "            #finds the nodes children in the graph and adds them to unvisited for future processing updates distance\n",
    "            #to child if it is smaller than current distance to that node\n",
    "            for child in current[1]:\n",
    "                for node in graph:\n",
    "                    if node[0] == child[0]:\n",
    "                        if node[3] == None:\n",
    "                            node[2] = child[1] + current[2]\n",
    "                            node[3] = current[0]\n",
    "                            unvisited.append(node[0])\n",
    "                        elif node[2] > child[1] + current[2]:\n",
    "                            node[2] = child[1] + current[2]\n",
    "                            node[3] = current[0]\n",
    "                            unvisited.append(node[0])\n",
    "            #temporary storage of nodes for comparison \n",
    "            check = None\n",
    "            #these nested for loops are for deciding which member of unvisited should be the next node to process\n",
    "            for x in unvisited:\n",
    "                for node in graph:\n",
    "                    if x == node[0]:\n",
    "                        if check == None:\n",
    "                            check = node\n",
    "                        else:\n",
    "                            if check[2] >  node [2]:\n",
    "                                check = node\n",
    "            #after shortest path is found is found it is made the next current node and then is removed from unvisited\n",
    "            current = check\n",
    "            unvisited.remove(check[0])\n",
    "            #if robust was set to true it outputs Nodes processed, node ID and length of path\n",
    "            if robust:\n",
    "                print(\"Nodes Processed: \" + str(count) + \" Node ID: \" + str(current[0])+ \" Path Length: \" + str(current[2]))\n",
    "    #this formats the output so that the path, length of path and processed nodes are outputed\n",
    "    for x in graph:\n",
    "        if x[0] == end:\n",
    "            path = []\n",
    "            state = True\n",
    "            z = x\n",
    "            while state:\n",
    "                \n",
    "                for y in graph:\n",
    "                    if y[0] == z[3]:\n",
    "                        path.insert(0, y[0])\n",
    "                        z = y\n",
    "                    if z[3] == start:\n",
    "                        path.append(end)\n",
    "                        path.insert(0, start)\n",
    "                        return [path, x[2] , count]\n",
    "                \n",
    "graph1 =[['A1', [['B1', 1], ['A2', 1]], None, None, None, [0, 0]], ['A2', [['A1', 1], ['A3', 1]], None, None, None, [0, 1]], ['A3', [['A2', 1], ['B3', 1]], None, None, None, [0, 2]], ['A4', [['B4', 1], ['A5', 1]], None, None, None, [0, 3]], ['A5', [['A4', 1], ['B5', 1]], None, None, None, [0, 4]], ['B1', [['A1', 1], ['C1', 1]], None, None, None, [1, 0]], ['B2', [['C2', 1]], None, None, None, [1, 1]], ['B3', [['A3', 1], ['B4', 1]], None, None, None, [1, 2]], ['B4', [['A4', 1], ['C4', 1], ['B3', 1]], None, None, None, [1, 3]], ['B5', [['A5', 1], ['C5', 1]], None, None, None, [1, 4]], \n",
    "         ['C1', [['B1', 1], ['C2', 1]], None, None, None, [2, 0]], ['C2', [['B2', 1], ['C1', 1]], None, None, None, [2, 1]], ['C3', [['D3', 1], ['C4', 1]], None, None, None, [2, 2]], ['C4', [['B4', 1], ['C3', 1]], None, None, None, [2, 3]], ['C5', [['B5', 1], ['D5', 1]], None, None, None, [2, 4]], ['D1', [['E1', 1], ['D2', 1]], None, None, None, [3, 0]], ['D2', [['D1', 1], ['E5', 1]], None, None, None, [3, 1]], ['D3', [['C3', 1]], None, None, None, [3, 2]], ['D4', [['E4', 1], ['D5', 1]], None, None, None, [3, 3]], ['D5', [['D4', 1], ['C5', 1]], None, None, None, [3, 4]], \n",
    "         ['E1', [['D1', 1], ['F1', 1]], None, None, None, [4, 0]], ['E2', [['D2', 1], ['E3', 1]], None, None, None, [4, 1]], ['E3', [['E2', 1], ['E4', 1], ['F3', 1]], None, None, None, [4, 2]], ['E4', [['E3', 1], ['E5', 1], ['D4', 1]], None, None, None, [4, 3]], ['E5', [['E4', 1], ['F5', 1]], None, None, None, [4, 4]], ['F1', [['E1', 1], ['F2', 1]], None, None, None, [5, 0]], ['F2', [['F1', 1], ['G2', 1]], None, None, None, [5, 1]], ['F3', [['E3', 1], ['F4', 1]], None, None, None, [5, 2]], ['F4', [['F3', 1], ['G4', 1]], None, None, None, [5, 3]], ['F5', [['E5', 1]], None, None, None, [5, 4]], \n",
    "         ['G1', [['G2', 1], ['H1', 1]], None, None, None, [6, 0]], ['G2', [['G1', 1], ['F2', 1], ['G3', 1]], None, None, None, [6, 1]], ['G3', [['G2', 1], ['H3', 1]], None, None, None, [6, 2]], ['G4', [['F4', 1]], None, None, None, [6, 3]], ['G5', [['H5', 1]], None, None, None, [6, 4]], ['H1', [['G1', 1], ['I1', 1]], None, None, None, [7, 0]], ['H2', [['H3', 1]], None, None, None, [7, 1]], ['H3', [['H2', 1], ['G3', 1]], None, None, None, [7, 2]], ['H4', [['I4', 1], ['H5', 1]], None, None, None, [7, 3]], ['H5', [['H4', 1], ['G5', 1], ['I5', 1]], None, None, None, [7, 4]],\n",
    "         ['I1', [['H1', 1], ['J1', 1]], None, None, None, [8, 0]], ['I2', [['J2', 1], ['I3', 1]], None, None, None, [8, 1]], ['I3', [['I2', 1], ['I4', 1]], None, None, None, [8, 2]], ['I4', [['I3', 1], ['H4', 1], ['J4', 1]], None, None, None, [8, 3]], ['I5', [['H5', 1], ['J5', 1]], None, None, None, [8, 4]], ['J1', [['I1', 1], ['J2', 1]], None, None, None, [9, 0]], ['J2', [['J1', 1], ['I2', 1]], None, None, None, [9, 1]], ['J3', [['J4', 1]], None, None, None, [9, 2]], ['J4', [['J3', 1], ['I4', 1]], None, None, None, [9, 3]], ['J5', [['I5', 1]], None, None, None, [9, 4]]]\n",
    "\n",
    "print(searchDijsktra(graph1,'A1','J5',True))\n"
   ]
  },
  {
   "cell_type": "markdown",
   "metadata": {},
   "source": [
    "\n",
    "#### 5. Implement your solution for the `searchAStar` function. You may write any helper functions that you wish. Be sure to test this code with the graph you created in Question 4, above, as well as with any other graph examples that you wish to use."
   ]
  },
  {
   "cell_type": "code",
   "execution_count": 27,
   "metadata": {},
   "outputs": [
    {
     "name": "stdout",
     "output_type": "stream",
     "text": [
      "Nodes Processed: 1 Node ID: A2 Path Length: 1\n",
      "Nodes Processed: 2 Node ID: A3 Path Length: 2\n",
      "Nodes Processed: 3 Node ID: B3 Path Length: 3\n",
      "Nodes Processed: 4 Node ID: B4 Path Length: 4\n",
      "Nodes Processed: 5 Node ID: C4 Path Length: 5\n",
      "Nodes Processed: 6 Node ID: A4 Path Length: 5\n",
      "Nodes Processed: 7 Node ID: C3 Path Length: 6\n",
      "Nodes Processed: 8 Node ID: D3 Path Length: 7\n",
      "Nodes Processed: 10 Node ID: A5 Path Length: 6\n",
      "Nodes Processed: 11 Node ID: B5 Path Length: 7\n",
      "Nodes Processed: 12 Node ID: C5 Path Length: 8\n",
      "Nodes Processed: 13 Node ID: D5 Path Length: 9\n",
      "Nodes Processed: 14 Node ID: D4 Path Length: 10\n",
      "Nodes Processed: 15 Node ID: E4 Path Length: 11\n",
      "Nodes Processed: 16 Node ID: E5 Path Length: 12\n",
      "Nodes Processed: 17 Node ID: F5 Path Length: 13\n",
      "Nodes Processed: 19 Node ID: E3 Path Length: 12\n",
      "Nodes Processed: 20 Node ID: F3 Path Length: 13\n",
      "Nodes Processed: 21 Node ID: F4 Path Length: 14\n",
      "Nodes Processed: 22 Node ID: G4 Path Length: 15\n",
      "Nodes Processed: 24 Node ID: C2 Path Length: 3\n",
      "Nodes Processed: 25 Node ID: B2 Path Length: 4\n",
      "Nodes Processed: 27 Node ID: D2 Path Length: 14\n",
      "Nodes Processed: 28 Node ID: D1 Path Length: 15\n",
      "Nodes Processed: 29 Node ID: E1 Path Length: 16\n",
      "Nodes Processed: 30 Node ID: F1 Path Length: 17\n",
      "Nodes Processed: 31 Node ID: F2 Path Length: 18\n",
      "Nodes Processed: 32 Node ID: G2 Path Length: 19\n",
      "Nodes Processed: 33 Node ID: G3 Path Length: 20\n",
      "Nodes Processed: 34 Node ID: H3 Path Length: 21\n",
      "Nodes Processed: 35 Node ID: H2 Path Length: 22\n",
      "Nodes Processed: 37 Node ID: H1 Path Length: 21\n",
      "Nodes Processed: 38 Node ID: I1 Path Length: 22\n",
      "Nodes Processed: 39 Node ID: J1 Path Length: 23\n",
      "Nodes Processed: 40 Node ID: J2 Path Length: 24\n",
      "Nodes Processed: 41 Node ID: I2 Path Length: 25\n",
      "Nodes Processed: 42 Node ID: I3 Path Length: 26\n",
      "Nodes Processed: 43 Node ID: I4 Path Length: 27\n",
      "Nodes Processed: 44 Node ID: J4 Path Length: 28\n",
      "Nodes Processed: 45 Node ID: H4 Path Length: 28\n",
      "Nodes Processed: 46 Node ID: H5 Path Length: 29\n",
      "Nodes Processed: 47 Node ID: I5 Path Length: 30\n",
      "Nodes Processed: 48 Node ID: J5 Path Length: 31\n",
      "[['A1', 'A2', 'A3', 'B3', 'B4', 'A4', 'A5', 'B5', 'C5', 'D5', 'D4', 'E4', 'E3', 'E2', 'D2', 'D1', 'E1', 'F1', 'F2', 'G2', 'G1', 'H1', 'I1', 'J1', 'J2', 'I2', 'I3', 'I4', 'H4', 'H5', 'I5', 'J5'], 31, 48]\n"
     ]
    }
   ],
   "source": [
    "# due to the similarity to Dijsktra I'm only going to comment on differences\n",
    "def searchAStar(graph,start,end,robust):\n",
    "    unvisited = []\n",
    "    current = None\n",
    "    #for storing the position of the goal\n",
    "    endpos = None\n",
    "    count = 0\n",
    "    #gets the position of the goal\n",
    "    for x in graph:\n",
    "        if x[0] == end:\n",
    "            endpos = x[5]\n",
    "    #calculates the euclidean distance from the goal of each node and assigns it as its heuristic value\n",
    "    for x in graph:\n",
    "        x[4] = ((((x[5][0] - endpos[0]) ** 2) + ((x[5][1] - endpos[1]) ** 2) ** 2) ** .5)\n",
    "    for x in graph:\n",
    "        if x[0] == start:\n",
    "            x[2] = 0\n",
    "            current = x\n",
    "            for child in x[1]:\n",
    "                unvisited.append(child)\n",
    "    while current[0] != end:\n",
    "        count += 1\n",
    "        if len(current[1]) == 1:\n",
    "            check = None\n",
    "            for x in unvisited:\n",
    "                for node in graph:\n",
    "                    if x == node[0]:\n",
    "                        if check == None:\n",
    "                            check = node\n",
    "                        else:\n",
    "                            if check[2] >  node [2]:\n",
    "                                check = node\n",
    "            current = check\n",
    "            unvisited.remove(check[0])\n",
    "        else:\n",
    "            for child in current[1]:\n",
    "                for node in graph:\n",
    "                    if node[0] == child[0]:\n",
    "                        if node[3] == None:\n",
    "                            node[2] = child[1] + current[2]\n",
    "                            node[3] = current[0]\n",
    "                            unvisited.append(node[0])\n",
    "                        elif node[2] > child[1] + current[2]:\n",
    "                            node[2] = child[1] + current[2]\n",
    "                            node[3] = current[0]\n",
    "                            unvisited.append(node[0])\n",
    "            check = None\n",
    "            # utilizes the heuristic value to weight which nodes it is going to vist by adding it to the distance between nodes\n",
    "            for x in unvisited:\n",
    "                for node in graph:\n",
    "                    if x == node[0]:\n",
    "                        if check == None:\n",
    "                            check = node\n",
    "                        else:\n",
    "                            if (check[2] + check[4])  >  (node[2] + node[4]):\n",
    "                                check = node\n",
    "            current = check\n",
    "            unvisited.remove(check[0])\n",
    "            if robust:\n",
    "                print(\"Nodes Processed: \" + str(count) + \" Node ID: \" + str(current[0])+ \" Path Length: \" + str(current[2]))\n",
    "                \n",
    "    for x in graph:\n",
    "        if x[0] == end:\n",
    "            path = []\n",
    "            state = True\n",
    "            z = x\n",
    "            while state:\n",
    "                \n",
    "                for y in graph:\n",
    "                    if y[0] == z[3]:\n",
    "                        path.insert(0, y[0])\n",
    "                        z = y\n",
    "                    if z[3] == start:\n",
    "                        path.append(end)\n",
    "                        path.insert(0, start)\n",
    "                        return [path, x[2] , count]\n",
    "                \n",
    "graph1 =[['A1', [['B1', 1], ['A2', 1]], None, None, None, [0, 0]], ['A2', [['A1', 1], ['A3', 1]], None, None, None, [0, 1]], ['A3', [['A2', 1], ['B3', 1]], None, None, None, [0, 2]], ['A4', [['B4', 1], ['A5', 1]], None, None, None, [0, 3]], ['A5', [['A4', 1], ['B5', 1]], None, None, None, [0, 4]], ['B1', [['A1', 1], ['C1', 1]], None, None, None, [1, 0]], ['B2', [['C2', 1]], None, None, None, [1, 1]], ['B3', [['A3', 1], ['B4', 1]], None, None, None, [1, 2]], ['B4', [['A4', 1], ['C4', 1], ['B3', 1]], None, None, None, [1, 3]], ['B5', [['A5', 1], ['C5', 1]], None, None, None, [1, 4]], \n",
    "         ['C1', [['B1', 1], ['C2', 1]], None, None, None, [2, 0]], ['C2', [['B2', 1], ['C1', 1]], None, None, None, [2, 1]], ['C3', [['D3', 1], ['C4', 1]], None, None, None, [2, 2]], ['C4', [['B4', 1], ['C3', 1]], None, None, None, [2, 3]], ['C5', [['B5', 1], ['D5', 1]], None, None, None, [2, 4]], ['D1', [['E1', 1], ['D2', 1]], None, None, None, [3, 0]], ['D2', [['D1', 1], ['E5', 1]], None, None, None, [3, 1]], ['D3', [['C3', 1]], None, None, None, [3, 2]], ['D4', [['E4', 1], ['D5', 1]], None, None, None, [3, 3]], ['D5', [['D4', 1], ['C5', 1]], None, None, None, [3, 4]], \n",
    "         ['E1', [['D1', 1], ['F1', 1]], None, None, None, [4, 0]], ['E2', [['D2', 1], ['E3', 1]], None, None, None, [4, 1]], ['E3', [['E2', 1], ['E4', 1], ['F3', 1]], None, None, None, [4, 2]], ['E4', [['E3', 1], ['E5', 1], ['D4', 1]], None, None, None, [4, 3]], ['E5', [['E4', 1], ['F5', 1]], None, None, None, [4, 4]], ['F1', [['E1', 1], ['F2', 1]], None, None, None, [5, 0]], ['F2', [['F1', 1], ['G2', 1]], None, None, None, [5, 1]], ['F3', [['E3', 1], ['F4', 1]], None, None, None, [5, 2]], ['F4', [['F3', 1], ['G4', 1]], None, None, None, [5, 3]], ['F5', [['E5', 1]], None, None, None, [5, 4]], \n",
    "         ['G1', [['G2', 1], ['H1', 1]], None, None, None, [6, 0]], ['G2', [['G1', 1], ['F2', 1], ['G3', 1]], None, None, None, [6, 1]], ['G3', [['G2', 1], ['H3', 1]], None, None, None, [6, 2]], ['G4', [['F4', 1]], None, None, None, [6, 3]], ['G5', [['H5', 1]], None, None, None, [6, 4]], ['H1', [['G1', 1], ['I1', 1]], None, None, None, [7, 0]], ['H2', [['H3', 1]], None, None, None, [7, 1]], ['H3', [['H2', 1], ['G3', 1]], None, None, None, [7, 2]], ['H4', [['I4', 1], ['H5', 1]], None, None, None, [7, 3]], ['H5', [['H4', 1], ['G5', 1], ['I5', 1]], None, None, None, [7, 4]],\n",
    "         ['I1', [['H1', 1], ['J1', 1]], None, None, None, [8, 0]], ['I2', [['J2', 1], ['I3', 1]], None, None, None, [8, 1]], ['I3', [['I2', 1], ['I4', 1]], None, None, None, [8, 2]], ['I4', [['I3', 1], ['H4', 1], ['J4', 1]], None, None, None, [8, 3]], ['I5', [['H5', 1], ['J5', 1]], None, None, None, [8, 4]], ['J1', [['I1', 1], ['J2', 1]], None, None, None, [9, 0]], ['J2', [['J1', 1], ['I2', 1]], None, None, None, [9, 1]], ['J3', [['J4', 1]], None, None, None, [9, 2]], ['J4', [['J3', 1], ['I4', 1]], None, None, None, [9, 3]], ['J5', [['I5', 1]], None, None, None, [9, 4]]]\n",
    "print(searchAStar(graph1,'A1','J5',True))                "
   ]
  },
  {
   "cell_type": "markdown",
   "metadata": {},
   "source": [
    "\n",
    "#### 6.\tHow does the performance of your `searchDijsktra` function compare with the performance of the `searchAStar` function? Explain, in detail, with whatever relevant data you have from your code."
   ]
  },
  {
   "cell_type": "markdown",
   "metadata": {},
   "source": [
    "A* and Dijsktra are identiacal in all but a few lines meaning there are very similar however the heuristic value those few extra lines assign allow for a slightly faster implementation. Everytime main while loop runs one node is expanded upon and we get 'closer' to our goal by exploring more nodes. Dijsktra while loop runs 50 times while A* runs 48 times. This may not seem like alot but the A* algorithm I designed heuristic is good with straight lines so if the goal had been straight down it would have not maid any mistakes in trying to reach the goal or straight to the right. If this maze where much larger say a thousand nodes I think the difference between the twos run times would be much more in contrat as it is A* Star is definitly more efficant but there are potential cases in which the heuristic value could be 'tricked' reulting in the same runtime."
   ]
  }
 ],
 "metadata": {
  "kernelspec": {
   "display_name": "Python 3",
   "language": "python",
   "name": "python3"
  },
  "language_info": {
   "codemirror_mode": {
    "name": "ipython",
    "version": 3
   },
   "file_extension": ".py",
   "mimetype": "text/x-python",
   "name": "python",
   "nbconvert_exporter": "python",
   "pygments_lexer": "ipython3",
   "version": "3.8.3"
  }
 },
 "nbformat": 4,
 "nbformat_minor": 2
}
