{
 "cells": [
  {
   "cell_type": "code",
   "execution_count": 3,
   "metadata": {
    "scrolled": true
   },
   "outputs": [
    {
     "name": "stdout",
     "output_type": "stream",
     "text": [
      "\n",
      "data:\t Fish.txt\n",
      "epochs:\t 1000\n",
      "alpha:\t 1e-08\n",
      "\n",
      "Best fit line: [8.608355740463387e-05, 0.0450973182525288]\n",
      "\n"
     ]
    }
   ],
   "source": [
    "# Original Code from Rashida Nasrin Sucky\n",
    "# https://rashida00.medium.com\n",
    "# minor modifications by E Rohrbaugh\n",
    "\n",
    "import numpy as np\n",
    "import pandas as pd\n",
    "import matplotlib.pyplot as plt\n",
    "\n",
    "# set parameters\n",
    "theta = [0,0]\n",
    "epochs = 1000\n",
    "alpha = 0.00000001\n",
    "datafile = 'Fish.txt'\n",
    "\n",
    "df = pd.read_csv(datafile, header = None)\n",
    "df.head()\n",
    "\n",
    "m = len(df)\n",
    "\n",
    "def hypothesis(theta, X):\n",
    "    return theta[0] + theta[1]*X\n",
    "\n",
    "def cost_calc(theta, X, y):\n",
    "    return (1/(2*m)) * np.sum((hypothesis(theta, X) - y)**2)\n",
    "\n",
    "def gradient_descent(theta, X, y, epochs, alpha):\n",
    "    cost = []\n",
    "    i = 0\n",
    "    \n",
    "    while i < epochs:\n",
    "        hx = hypothesis(theta, X)\n",
    "        \n",
    "        theta[0] -= alpha / m * np.sum(hx - y)\n",
    "        theta[1] -= alpha / m * np.sum((hx - y) * X)\n",
    "\n",
    "        cost.append(cost_calc(theta, X, y))\n",
    "        i += 1\n",
    "\n",
    "    return theta, cost\n",
    "\n",
    "def predict(theta, X, y, epochs, alpha):\n",
    "    theta, cost = gradient_descent(theta, X, y, epochs, alpha)\n",
    "    return hypothesis(theta, X), cost, theta\n",
    "\n",
    "y_predict, cost, theta = predict(theta, df[0], df[1], epochs, alpha)\n",
    "\n",
    "print()\n",
    "print('data:\\t', datafile)\n",
    "print('epochs:\\t', epochs)\n",
    "print('alpha:\\t', alpha)\n",
    "print()\n",
    "print('Best fit line:', theta)\n",
    "print()\n",
    "\n",
    "\n",
    "\n",
    "\n",
    "# print('Uncomment one of the plot sections to view corresponding plot')\n"
   ]
  },
  {
   "cell_type": "code",
   "execution_count": 4,
   "metadata": {},
   "outputs": [
    {
     "data": {
      "text/plain": [
       "<matplotlib.collections.PathCollection at 0x28182305f10>"
      ]
     },
     "execution_count": 4,
     "metadata": {},
     "output_type": "execute_result"
    },
    {
     "data": {
      "image/png": "[encoded data removed]",
      "text/plain": [
       "<Figure size 432x288 with 1 Axes>"
      ]
     },
     "metadata": {
      "needs_background": "light"
     },
     "output_type": "display_data"
    }
   ],
   "source": [
    "# plot a scatter chart with just the data\n",
    "plt.figure()\n",
    "plt.scatter(df[0], df[1], label = 'Original y')"
   ]
  },
  {
   "cell_type": "code",
   "execution_count": 5,
   "metadata": {},
   "outputs": [
    {
     "data": {
      "image/png": "[encoded data removed]",
      "text/plain": [
       "<Figure size 432x288 with 1 Axes>"
      ]
     },
     "metadata": {
      "needs_background": "light"
     },
     "output_type": "display_data"
    }
   ],
   "source": [
    "# plot original data along with values predicted by hypothesis\n",
    "plt.figure(datafile)\n",
    "plt.scatter(df[0], df[1], label = 'Original y')\n",
    "plt.scatter(df[0], y_predict, label = 'predicted y')\n",
    "plt.legend(loc = \"upper left\")\n",
    "plt.xlabel(\"input feature\")\n",
    "plt.ylabel(\"Original and Predicted Output\")\n",
    "plt.show()"
   ]
  },
  {
   "cell_type": "code",
   "execution_count": 6,
   "metadata": {},
   "outputs": [
    {
     "data": {
      "image/png": "[encoded data removed]",
      "text/plain": [
       "<Figure size 432x288 with 1 Axes>"
      ]
     },
     "metadata": {
      "needs_background": "light"
     },
     "output_type": "display_data"
    }
   ],
   "source": [
    "# plot cost function values over time\n",
    "plt.figure()\n",
    "plt.scatter(range(0, len(cost)), cost)\n",
    "plt.show()"
   ]
  },
  {
   "cell_type": "code",
   "execution_count": 7,
   "metadata": {},
   "outputs": [
    {
     "name": "stdout",
     "output_type": "stream",
     "text": [
      "0     10.913637\n",
      "1     13.078308\n",
      "2     15.333174\n",
      "3     16.370413\n",
      "4     19.391933\n",
      "5     20.293879\n",
      "6     22.548745\n",
      "7     17.588040\n",
      "8     20.293879\n",
      "9     22.548745\n",
      "10    21.421312\n",
      "11    22.548745\n",
      "12    22.548745\n",
      "13    15.333174\n",
      "14    27.058477\n",
      "15    27.058477\n",
      "16    31.568209\n",
      "17    31.568209\n",
      "18    27.509450\n",
      "19    29.313343\n",
      "20    25.931044\n",
      "21    30.891749\n",
      "22    27.960423\n",
      "23    30.666262\n",
      "24    31.568209\n",
      "25    32.695642\n",
      "26    32.470155\n",
      "27    32.199571\n",
      "28    38.332807\n",
      "29    45.097404\n",
      "30    41.489619\n",
      "31    43.068025\n",
      "32    41.715105\n",
      "33    43.969971\n",
      "34    42.842538\n",
      "Name: 0, dtype: float64\n"
     ]
    }
   ],
   "source": [
    "print(y_predict)"
   ]
  },
  {
   "cell_type": "code",
   "execution_count": 8,
   "metadata": {},
   "outputs": [
    {
     "ename": "NameError",
     "evalue": "name 'X' is not defined",
     "output_type": "error",
     "traceback": [
      "\u001b[1;31m---------------------------------------------------------------------------\u001b[0m",
      "\u001b[1;31mNameError\u001b[0m                                 Traceback (most recent call last)",
      "\u001b[1;32m<ipython-input-8-fa0134f942c4>\u001b[0m in \u001b[0;36m<module>\u001b[1;34m\u001b[0m\n\u001b[1;32m----> 1\u001b[1;33m \u001b[0mprint\u001b[0m\u001b[1;33m(\u001b[0m\u001b[0mX\u001b[0m\u001b[1;33m)\u001b[0m\u001b[1;33m\u001b[0m\u001b[1;33m\u001b[0m\u001b[0m\n\u001b[0m",
      "\u001b[1;31mNameError\u001b[0m: name 'X' is not defined"
     ]
    }
   ],
   "source": [
    "print(X)"
   ]
  },
  {
   "cell_type": "code",
   "execution_count": null,
   "metadata": {},
   "outputs": [],
   "source": []
  }
 ],
 "metadata": {
  "kernelspec": {
   "display_name": "Python 3",
   "language": "python",
   "name": "python3"
  },
  "language_info": {
   "codemirror_mode": {
    "name": "ipython",
    "version": 3
   },
   "file_extension": ".py",
   "mimetype": "text/x-python",
   "name": "python",
   "nbconvert_exporter": "python",
   "pygments_lexer": "ipython3",
   "version": "3.8.5"
  }
 },
 "nbformat": 4,
 "nbformat_minor": 4
}
